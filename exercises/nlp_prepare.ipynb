{
 "cells": [
  {
   "cell_type": "markdown",
   "metadata": {},
   "source": [
    "# Import"
   ]
  },
  {
   "cell_type": "code",
   "execution_count": 1,
   "metadata": {},
   "outputs": [],
   "source": [
    "import unicodedata\n",
    "import re\n",
    "import json\n",
    "\n",
    "import nltk\n",
    "from nltk.tokenize.toktok import ToktokTokenizer\n",
    "from nltk.corpus import stopwords\n",
    "\n",
    "import pandas as pd\n",
    "\n",
    "import acquire"
   ]
  },
  {
   "cell_type": "markdown",
   "metadata": {},
   "source": [
    "# Exercises"
   ]
  },
  {
   "cell_type": "markdown",
   "metadata": {},
   "source": [
    "In this exercise we will be defining some functions to prepare textual data. These functions should apply equally well to both the codeup blog articles and the news articles that were previously acquired.\n",
    "\n",
    "1. Define a function named basic_clean. It should take in a string and apply some basic text cleaning to it:\n",
    "\n",
    "- Lowercase everything\n",
    "- Normalize unicode characters\n",
    "- Replace anything that is not a letter, number, whitespace or a single quote.\n",
    "\n",
    "2. Define a function named tokenize. It should take in a string and tokenize all the words in the string.\n",
    "\n",
    "3. Define a function named stem. It should accept some text and return the text after applying stemming to all the words.\n",
    "\n",
    "4. Define a function named lemmatize. It should accept some text and return the text after applying lemmatization to each word.\n",
    "\n",
    "5. Define a function named remove_stopwords. It should accept some text and return the text after removing all the stopwords.\n",
    "\n",
    "This function should define two optional parameters, extra_words and exclude_words. These parameters should define any additional stop words to include, and any words that we don't want to remove.\n",
    "\n",
    "6. Use your data from the acquire to produce a dataframe of the news articles. Name the dataframe news_df.\n",
    "\n",
    "7. Make another dataframe for the Codeup blog posts. Name the dataframe codeup_df.\n",
    "\n",
    "8. For each dataframe, produce the following columns:\n",
    "\n",
    "- title to hold the title\n",
    "- original to hold the original article/post content\n",
    "- clean to hold the normalized and tokenized original with the stopwords removed.\n",
    "- stemmed to hold the stemmed version of the cleaned data.\n",
    "- lemmatized to hold the lemmatized version of the cleaned data.\n",
    "\n",
    "9. Ask yourself:\n",
    "\n",
    "- If your corpus is 493KB, would you prefer to use stemmed or lemmatized text?\n",
    "- If your corpus is 25MB, would you prefer to use stemmed or lemmatized text?\n",
    "- If your corpus is 200TB of text and you're charged by the megabyte for your hosted computational resources, would you prefer to use stemmed or lemmatized text?"
   ]
  },
  {
   "cell_type": "markdown",
   "metadata": {},
   "source": [
    "## Exercise 1. \n",
    "Define a function named basic_clean. It should take in a string and apply some basic text cleaning to it:\n",
    "\n",
    "- Lowercase everything\n",
    "- Normalize unicode characters\n",
    "- Replace anything that is not a letter, number, whitespace or a single quote."
   ]
  },
  {
   "cell_type": "code",
   "execution_count": 2,
   "metadata": {},
   "outputs": [],
   "source": [
    "urls = acquire.get_blog_urls()\n",
    "articles = acquire.get_news_articles()"
   ]
  },
  {
   "cell_type": "code",
   "execution_count": 3,
   "metadata": {},
   "outputs": [
    {
     "data": {
      "text/plain": [
       "\"India's GDP grew at 13.5% in the first quarter of FY23, achieving its fastest annual expansion in a year, government data showed. However, it is lower than the Reserve Bank of India's (RBI) projection of 16.2% GDP growth in the first quarter of FY23. India's GDP growth in the first quarter of FY22 was 20.1%.\""
      ]
     },
     "execution_count": 3,
     "metadata": {},
     "output_type": "execute_result"
    }
   ],
   "source": [
    "string = articles.content[0]\n",
    "string"
   ]
  },
  {
   "cell_type": "code",
   "execution_count": 4,
   "metadata": {},
   "outputs": [
    {
     "data": {
      "text/plain": [
       "\"india's gdp grew at 13.5% in the first quarter of fy23, achieving its fastest annual expansion in a year, government data showed. however, it is lower than the reserve bank of india's (rbi) projection of 16.2% gdp growth in the first quarter of fy23. india's gdp growth in the first quarter of fy22 was 20.1%.\""
      ]
     },
     "execution_count": 4,
     "metadata": {},
     "output_type": "execute_result"
    }
   ],
   "source": [
    "# lowercase everything\n",
    "string.lower()"
   ]
  },
  {
   "cell_type": "code",
   "execution_count": 5,
   "metadata": {},
   "outputs": [
    {
     "data": {
      "text/plain": [
       "\"India's GDP grew at 13.5% in the first quarter of FY23, achieving its fastest annual expansion in a year, government data showed. However, it is lower than the Reserve Bank of India's (RBI) projection of 16.2% GDP growth in the first quarter of FY23. India's GDP growth in the first quarter of FY22 was 20.1%.\""
      ]
     },
     "execution_count": 5,
     "metadata": {},
     "output_type": "execute_result"
    }
   ],
   "source": [
    "# Normalizing unicode characters\n",
    "unicodedata.normalize('NFKD', string)\\\n",
    "    .encode('ascii', 'ignore')\\\n",
    "    .decode('UTF-8')"
   ]
  },
  {
   "cell_type": "code",
   "execution_count": 6,
   "metadata": {},
   "outputs": [
    {
     "data": {
      "text/plain": [
       "'ndias  grew at 135 in the first quarter of 23 achieving its fastest annual expansion in a year government data showed owever it is lower than the eserve ank of ndias  projection of 162  growth in the first quarter of 23 ndias  growth in the first quarter of 22 was 201'"
      ]
     },
     "execution_count": 6,
     "metadata": {},
     "output_type": "execute_result"
    }
   ],
   "source": [
    "# Replacing anything that isn't specified above\n",
    "re.sub(r\"[^a-z0-9\\s]\", '', string)"
   ]
  },
  {
   "cell_type": "code",
   "execution_count": 7,
   "metadata": {},
   "outputs": [],
   "source": [
    "# creating the function\n",
    "def basic_clean(string):\n",
    "    \n",
    "    # lowercase everything\n",
    "    string = string.lower()\n",
    "    \n",
    "    # remove inconsistenceis\n",
    "    # encode into ascii byte strings\n",
    "    # decode back into UTF-8\n",
    "    # (This process will normalize the unicode characters)\n",
    "    \n",
    "    string = unicodedata.normalize('NFKD', string).encode('ascii', 'ignore').decode('UTF-8')\n",
    "    \n",
    "    # replace anything that is not a letter, number, whitespace, etc\n",
    "    # use regex to perform this operation\n",
    "    string = re.sub(r\"[^a-z0-9\\s]\", '', string)\n",
    "    \n",
    "    return string"
   ]
  },
  {
   "cell_type": "code",
   "execution_count": 8,
   "metadata": {},
   "outputs": [
    {
     "data": {
      "text/plain": [
       "'indias gdp grew at 135 in the first quarter of fy23 achieving its fastest annual expansion in a year government data showed however it is lower than the reserve bank of indias rbi projection of 162 gdp growth in the first quarter of fy23 indias gdp growth in the first quarter of fy22 was 201'"
      ]
     },
     "execution_count": 8,
     "metadata": {},
     "output_type": "execute_result"
    }
   ],
   "source": [
    "cleaned_string = basic_clean(string)\n",
    "cleaned_string"
   ]
  },
  {
   "cell_type": "markdown",
   "metadata": {},
   "source": [
    "## Exercise 2. \n",
    "Define a function named tokenize. It should take in a string and tokenize all the words in the string."
   ]
  },
  {
   "cell_type": "code",
   "execution_count": 9,
   "metadata": {},
   "outputs": [],
   "source": [
    "#create the token\n",
    "token = nltk.tokenize.ToktokTokenizer()"
   ]
  },
  {
   "cell_type": "code",
   "execution_count": 10,
   "metadata": {},
   "outputs": [
    {
     "data": {
      "text/plain": [
       "\"India ' s GDP grew at 13.5 % in the first quarter of FY23 , achieving its fastest annual expansion in a year , government data showed. However , it is lower than the Reserve Bank of India ' s ( RBI ) projection of 16.2 % GDP growth in the first quarter of FY23. India ' s GDP growth in the first quarter of FY22 was 20.1 % .\""
      ]
     },
     "execution_count": 10,
     "metadata": {},
     "output_type": "execute_result"
    }
   ],
   "source": [
    "#Use the token\n",
    "string = token.tokenize(string,  return_str=True)\n",
    "string"
   ]
  },
  {
   "cell_type": "code",
   "execution_count": 11,
   "metadata": {},
   "outputs": [],
   "source": [
    "def tokenize(string):\n",
    "    \"\"\"\n",
    "    This function will take in a string, tokenize the string and \n",
    "    return the tokenized string\n",
    "    \"\"\"\n",
    "    \n",
    "    #create the token\n",
    "    token = nltk.tokenize.ToktokTokenizer()\n",
    "    \n",
    "    #Use the token\n",
    "    string = token.tokenize(string,  return_str=True)\n",
    "    \n",
    "    return string"
   ]
  },
  {
   "cell_type": "code",
   "execution_count": 12,
   "metadata": {},
   "outputs": [
    {
     "data": {
      "text/plain": [
       "'indias gdp grew at 135 in the first quarter of fy23 achieving its fastest annual expansion in a year government data showed however it is lower than the reserve bank of indias rbi projection of 162 gdp growth in the first quarter of fy23 indias gdp growth in the first quarter of fy22 was 201'"
      ]
     },
     "execution_count": 12,
     "metadata": {},
     "output_type": "execute_result"
    }
   ],
   "source": [
    "token = tokenize(cleaned_string)\n",
    "token"
   ]
  },
  {
   "cell_type": "markdown",
   "metadata": {},
   "source": [
    "## Exercise 3. \n",
    "Define a function named stem. It should accept some text and return the text after applying stemming to all the words.\n"
   ]
  },
  {
   "cell_type": "code",
   "execution_count": 13,
   "metadata": {},
   "outputs": [],
   "source": [
    "# Create the nltk stemmer object, then use it\n",
    "ps = nltk.porter.PorterStemmer()"
   ]
  },
  {
   "cell_type": "code",
   "execution_count": 14,
   "metadata": {},
   "outputs": [],
   "source": [
    "#Apply the stem to each work in the string and create a list\n",
    "# of steemed words\n",
    "stems = [ps.stem(word) for word in string.split()]\n"
   ]
  },
  {
   "cell_type": "code",
   "execution_count": 15,
   "metadata": {},
   "outputs": [],
   "source": [
    "def stem(string):\n",
    "    \"\"\"\n",
    "    This function will accept some text(string) and return a stemmed \n",
    "    version of the text\n",
    "    \"\"\"\n",
    "    \n",
    "    #create the porter stem\n",
    "    ps = nltk.porter.PorterStemmer()\n",
    "    \n",
    "    #Apply the stem to each work in the string and create a list\n",
    "    # of steemed words\n",
    "    \n",
    "    stem = [ps.stem(word) for word in string.split()]\n",
    "    \n",
    "    # rejoin the string together\n",
    "    stemmed_string = ' '.join(stem)\n",
    "    \n",
    "    return stemmed_string"
   ]
  },
  {
   "cell_type": "code",
   "execution_count": 16,
   "metadata": {},
   "outputs": [
    {
     "data": {
      "text/plain": [
       "'india gdp grew at 135 in the first quarter of fy23 achiev it fastest annual expans in a year govern data show howev it is lower than the reserv bank of india rbi project of 162 gdp growth in the first quarter of fy23 india gdp growth in the first quarter of fy22 wa 201'"
      ]
     },
     "execution_count": 16,
     "metadata": {},
     "output_type": "execute_result"
    }
   ],
   "source": [
    "#test\n",
    "stemmed_string = stem(token)\n",
    "stemmed_string"
   ]
  },
  {
   "cell_type": "markdown",
   "metadata": {},
   "source": [
    "## Exercise 4. \n",
    "Define a function named lemmatize. It should accept some text and return the text after applying lemmatization to each word.\n"
   ]
  },
  {
   "cell_type": "code",
   "execution_count": 17,
   "metadata": {},
   "outputs": [
    {
     "name": "stderr",
     "output_type": "stream",
     "text": [
      "[nltk_data] Downloading package wordnet to\n",
      "[nltk_data]     /Users/davidschneemann/nltk_data...\n",
      "[nltk_data]   Package wordnet is already up-to-date!\n"
     ]
    },
    {
     "data": {
      "text/plain": [
       "True"
      ]
     },
     "execution_count": 17,
     "metadata": {},
     "output_type": "execute_result"
    }
   ],
   "source": [
    "# download wornet lemmatized\n",
    "nltk.download('wordnet')"
   ]
  },
  {
   "cell_type": "code",
   "execution_count": 18,
   "metadata": {},
   "outputs": [],
   "source": [
    "# download omw-1.4 for nltk\n",
    "# nltk.download('omw-1.4')"
   ]
  },
  {
   "cell_type": "code",
   "execution_count": 19,
   "metadata": {},
   "outputs": [],
   "source": [
    "wnl = nltk.stem.WordNetLemmatizer()"
   ]
  },
  {
   "cell_type": "code",
   "execution_count": 20,
   "metadata": {},
   "outputs": [
    {
     "data": {
      "text/plain": [
       "['India',\n",
       " \"'\",\n",
       " 's',\n",
       " 'GDP',\n",
       " 'grew',\n",
       " 'at',\n",
       " '13.5',\n",
       " '%',\n",
       " 'in',\n",
       " 'the',\n",
       " 'first',\n",
       " 'quarter',\n",
       " 'of',\n",
       " 'FY23',\n",
       " ',',\n",
       " 'achieving',\n",
       " 'it',\n",
       " 'fastest',\n",
       " 'annual',\n",
       " 'expansion',\n",
       " 'in',\n",
       " 'a',\n",
       " 'year',\n",
       " ',',\n",
       " 'government',\n",
       " 'data',\n",
       " 'showed.',\n",
       " 'However',\n",
       " ',',\n",
       " 'it',\n",
       " 'is',\n",
       " 'lower',\n",
       " 'than',\n",
       " 'the',\n",
       " 'Reserve',\n",
       " 'Bank',\n",
       " 'of',\n",
       " 'India',\n",
       " \"'\",\n",
       " 's',\n",
       " '(',\n",
       " 'RBI',\n",
       " ')',\n",
       " 'projection',\n",
       " 'of',\n",
       " '16.2',\n",
       " '%',\n",
       " 'GDP',\n",
       " 'growth',\n",
       " 'in',\n",
       " 'the',\n",
       " 'first',\n",
       " 'quarter',\n",
       " 'of',\n",
       " 'FY23.',\n",
       " 'India',\n",
       " \"'\",\n",
       " 's',\n",
       " 'GDP',\n",
       " 'growth',\n",
       " 'in',\n",
       " 'the',\n",
       " 'first',\n",
       " 'quarter',\n",
       " 'of',\n",
       " 'FY22',\n",
       " 'wa',\n",
       " '20.1',\n",
       " '%',\n",
       " '.']"
      ]
     },
     "execution_count": 20,
     "metadata": {},
     "output_type": "execute_result"
    }
   ],
   "source": [
    "[wnl.lemmatize(word) for word in string.split()]"
   ]
  },
  {
   "cell_type": "code",
   "execution_count": 21,
   "metadata": {},
   "outputs": [],
   "source": [
    "def lemmatize(string):\n",
    "    \"\"\"This function takes in a string and returns a lmeeatized \n",
    "    version of the string\"\"\"\n",
    "    \n",
    "    # create the lemmatizer\n",
    "    wnl = nltk.stem.WordNetLemmatizer()\n",
    "    \n",
    "    lemmas = [wnl.lemmatize(word) for word in string.split()]\n",
    "    \n",
    "    string_lemmatize = ' '.join(lemmas)\n",
    "    \n",
    "    return string_lemmatize"
   ]
  },
  {
   "cell_type": "code",
   "execution_count": 22,
   "metadata": {},
   "outputs": [
    {
     "data": {
      "text/plain": [
       "'india gdp grew at 135 in the first quarter of fy23 achieving it fastest annual expansion in a year government data showed however it is lower than the reserve bank of india rbi projection of 162 gdp growth in the first quarter of fy23 india gdp growth in the first quarter of fy22 wa 201'"
      ]
     },
     "execution_count": 22,
     "metadata": {},
     "output_type": "execute_result"
    }
   ],
   "source": [
    "\n",
    "lemmatized = lemmatize(token)\n",
    "lemmatized"
   ]
  },
  {
   "cell_type": "markdown",
   "metadata": {},
   "source": [
    "## Exercise 5.\n",
    "Define a function named remove_stopwords. It should accept some text and return the text after removing all the stopwords.\n",
    "\n",
    "This function should define two optional parameters, extra_words and exclude_words. These parameters should define any additional stop words to include, and any words that we don't want to remove.\n"
   ]
  },
  {
   "cell_type": "code",
   "execution_count": 23,
   "metadata": {},
   "outputs": [],
   "source": [
    "def remove_stopwords(string, extra_words=[], exclude_words=[]):\n",
    "    \"\"\"\n",
    "    This function will take in a string, filter out stop words from the nltk standard english list \n",
    "    as well as any other extra words, and return a version of the text without these stopwords.\n",
    "    It includes optional paramaters allowing the user to add extra words to remove \n",
    "    or to exclude words from the stopword list.\n",
    "    \"\"\"\n",
    "    \n",
    "    #get english stopwords from nltk\n",
    "    stop_words = stopwords.words('english')\n",
    "    \n",
    "    #Add extra words to be removed to the stop word list\n",
    "    for word in extra_words:\n",
    "        stop_words.append(word)\n",
    "    \n",
    "    #Remove words to be excluded from the stop word list\n",
    "    for word in exclude_words:\n",
    "        stop_words.remove(word)\n",
    "    \n",
    "    #Create a list of words to be checked by splitting the string\n",
    "    words = string.split()\n",
    "    \n",
    "    #Filter out all of the stop words\n",
    "    filtered_words = [word for word in words if word not in stop_words]\n",
    "    \n",
    "    #Join the list of filtered words into a string\n",
    "    filtered_string = ' '.join(filtered_words)\n",
    "    \n",
    "    return filtered_string"
   ]
  },
  {
   "cell_type": "code",
   "execution_count": 24,
   "metadata": {},
   "outputs": [
    {
     "data": {
      "text/plain": [
       "'indias gdp grew 135 first quarter fy23 achieving fastest annual expansion year government data showed however lower reserve bank indias rbi projection 162 gdp growth first quarter fy23 indias gdp growth first quarter fy22 201'"
      ]
     },
     "execution_count": 24,
     "metadata": {},
     "output_type": "execute_result"
    }
   ],
   "source": [
    "removed_stopwords = remove_stopwords(token)\n",
    "removed_stopwords"
   ]
  },
  {
   "cell_type": "code",
   "execution_count": 25,
   "metadata": {},
   "outputs": [
    {
     "data": {
      "text/plain": [
       "'indias gdp grew 135 the first quarter fy23 achieving fastest annual expansion year government data showed however lower the reserve bank indias rbi projection 162 gdp growth the first quarter fy23 indias gdp growth the first quarter fy22 201'"
      ]
     },
     "execution_count": 25,
     "metadata": {},
     "output_type": "execute_result"
    }
   ],
   "source": [
    "# Test using extra_words and exclude_words options\n",
    "extra_words = ['russia', 'matter']\n",
    "exclude_words = ['the']\n",
    "\n",
    "filters = remove_stopwords(token, extra_words, exclude_words)\n",
    "filters"
   ]
  },
  {
   "cell_type": "markdown",
   "metadata": {},
   "source": [
    "## Exercise 6.\n",
    "Use your data from the acquire to produce a dataframe of the news articles. Name the dataframe news_df."
   ]
  },
  {
   "cell_type": "code",
   "execution_count": 26,
   "metadata": {},
   "outputs": [
    {
     "data": {
      "text/html": [
       "<div>\n",
       "<style scoped>\n",
       "    .dataframe tbody tr th:only-of-type {\n",
       "        vertical-align: middle;\n",
       "    }\n",
       "\n",
       "    .dataframe tbody tr th {\n",
       "        vertical-align: top;\n",
       "    }\n",
       "\n",
       "    .dataframe thead th {\n",
       "        text-align: right;\n",
       "    }\n",
       "</style>\n",
       "<table border=\"1\" class=\"dataframe\">\n",
       "  <thead>\n",
       "    <tr style=\"text-align: right;\">\n",
       "      <th></th>\n",
       "      <th>category</th>\n",
       "      <th>title</th>\n",
       "      <th>author</th>\n",
       "      <th>date</th>\n",
       "      <th>content</th>\n",
       "    </tr>\n",
       "  </thead>\n",
       "  <tbody>\n",
       "    <tr>\n",
       "      <th>0</th>\n",
       "      <td>business</td>\n",
       "      <td>India's GDP grows at 13.5% in first quarter of...</td>\n",
       "      <td>Anmol Sharma</td>\n",
       "      <td>2022-08-31</td>\n",
       "      <td>India's GDP grew at 13.5% in the first quarter...</td>\n",
       "    </tr>\n",
       "    <tr>\n",
       "      <th>1</th>\n",
       "      <td>business</td>\n",
       "      <td>Musk seeks to delay Twitter trial to Nov amid ...</td>\n",
       "      <td>Ridham Gambhir</td>\n",
       "      <td>2022-08-31</td>\n",
       "      <td>Tesla CEO Elon Musk is seeking to delay the tr...</td>\n",
       "    </tr>\n",
       "    <tr>\n",
       "      <th>2</th>\n",
       "      <td>business</td>\n",
       "      <td>Snap to lay off 20% of staff, cancel several p...</td>\n",
       "      <td>Ananya Goyal</td>\n",
       "      <td>2022-08-31</td>\n",
       "      <td>Snap said on Wednesday it will lay off 20% of ...</td>\n",
       "    </tr>\n",
       "    <tr>\n",
       "      <th>3</th>\n",
       "      <td>business</td>\n",
       "      <td>2 top executives at Snap quit hours after repo...</td>\n",
       "      <td>Ridham Gambhir</td>\n",
       "      <td>2022-08-31</td>\n",
       "      <td>Two senior advertising executives at Snap quit...</td>\n",
       "    </tr>\n",
       "    <tr>\n",
       "      <th>4</th>\n",
       "      <td>business</td>\n",
       "      <td>Viral video shows Amazon parcels thrown out of...</td>\n",
       "      <td>Apaar Sharma</td>\n",
       "      <td>2022-08-31</td>\n",
       "      <td>A video from Guwahati railway station has gone...</td>\n",
       "    </tr>\n",
       "    <tr>\n",
       "      <th>...</th>\n",
       "      <td>...</td>\n",
       "      <td>...</td>\n",
       "      <td>...</td>\n",
       "      <td>...</td>\n",
       "      <td>...</td>\n",
       "    </tr>\n",
       "    <tr>\n",
       "      <th>95</th>\n",
       "      <td>entertainment</td>\n",
       "      <td>S Korea may hold survey on BTS members' mandat...</td>\n",
       "      <td>Indraneel Sen</td>\n",
       "      <td>2022-08-31</td>\n",
       "      <td>South Korea is considering a survey to determi...</td>\n",
       "    </tr>\n",
       "    <tr>\n",
       "      <th>96</th>\n",
       "      <td>entertainment</td>\n",
       "      <td>Judge 'The Kashmir...' according to its cinema...</td>\n",
       "      <td>Amartya Sharma</td>\n",
       "      <td>2022-08-31</td>\n",
       "      <td>'The Kashmir Files' actress Pallavi Joshi has ...</td>\n",
       "    </tr>\n",
       "    <tr>\n",
       "      <th>97</th>\n",
       "      <td>entertainment</td>\n",
       "      <td>Response to 'Delhi Crime 2' is enormous: Actre...</td>\n",
       "      <td>Amartya Sharma</td>\n",
       "      <td>2022-08-31</td>\n",
       "      <td>Actress Shefali Shah, speaking about the recen...</td>\n",
       "    </tr>\n",
       "    <tr>\n",
       "      <th>98</th>\n",
       "      <td>entertainment</td>\n",
       "      <td>We have been inviting Bappa for almost 60 year...</td>\n",
       "      <td>Amartya Sharma</td>\n",
       "      <td>2022-08-31</td>\n",
       "      <td>Actress Shraddha Kapoor, speaking on the occas...</td>\n",
       "    </tr>\n",
       "    <tr>\n",
       "      <th>99</th>\n",
       "      <td>entertainment</td>\n",
       "      <td>Allu Arjun's 'Pushpa: The Rise' screened at Mo...</td>\n",
       "      <td>Kameshwari</td>\n",
       "      <td>2022-08-31</td>\n",
       "      <td>Allu Arjun's 'Pushpa: The Rise' was recently s...</td>\n",
       "    </tr>\n",
       "  </tbody>\n",
       "</table>\n",
       "<p>100 rows × 5 columns</p>\n",
       "</div>"
      ],
      "text/plain": [
       "         category                                              title  \\\n",
       "0        business  India's GDP grows at 13.5% in first quarter of...   \n",
       "1        business  Musk seeks to delay Twitter trial to Nov amid ...   \n",
       "2        business  Snap to lay off 20% of staff, cancel several p...   \n",
       "3        business  2 top executives at Snap quit hours after repo...   \n",
       "4        business  Viral video shows Amazon parcels thrown out of...   \n",
       "..            ...                                                ...   \n",
       "95  entertainment  S Korea may hold survey on BTS members' mandat...   \n",
       "96  entertainment  Judge 'The Kashmir...' according to its cinema...   \n",
       "97  entertainment  Response to 'Delhi Crime 2' is enormous: Actre...   \n",
       "98  entertainment  We have been inviting Bappa for almost 60 year...   \n",
       "99  entertainment  Allu Arjun's 'Pushpa: The Rise' screened at Mo...   \n",
       "\n",
       "            author       date  \\\n",
       "0     Anmol Sharma 2022-08-31   \n",
       "1   Ridham Gambhir 2022-08-31   \n",
       "2     Ananya Goyal 2022-08-31   \n",
       "3   Ridham Gambhir 2022-08-31   \n",
       "4     Apaar Sharma 2022-08-31   \n",
       "..             ...        ...   \n",
       "95   Indraneel Sen 2022-08-31   \n",
       "96  Amartya Sharma 2022-08-31   \n",
       "97  Amartya Sharma 2022-08-31   \n",
       "98  Amartya Sharma 2022-08-31   \n",
       "99      Kameshwari 2022-08-31   \n",
       "\n",
       "                                              content  \n",
       "0   India's GDP grew at 13.5% in the first quarter...  \n",
       "1   Tesla CEO Elon Musk is seeking to delay the tr...  \n",
       "2   Snap said on Wednesday it will lay off 20% of ...  \n",
       "3   Two senior advertising executives at Snap quit...  \n",
       "4   A video from Guwahati railway station has gone...  \n",
       "..                                                ...  \n",
       "95  South Korea is considering a survey to determi...  \n",
       "96  'The Kashmir Files' actress Pallavi Joshi has ...  \n",
       "97  Actress Shefali Shah, speaking about the recen...  \n",
       "98  Actress Shraddha Kapoor, speaking on the occas...  \n",
       "99  Allu Arjun's 'Pushpa: The Rise' was recently s...  \n",
       "\n",
       "[100 rows x 5 columns]"
      ]
     },
     "execution_count": 26,
     "metadata": {},
     "output_type": "execute_result"
    }
   ],
   "source": [
    "news_df = acquire.get_news_articles()\n",
    "news_df"
   ]
  },
  {
   "cell_type": "markdown",
   "metadata": {},
   "source": [
    "## Exercise 7.\n",
    "Make another dataframe for the Codeup blog posts. Name the dataframe codeup_df."
   ]
  },
  {
   "cell_type": "code",
   "execution_count": 27,
   "metadata": {},
   "outputs": [
    {
     "data": {
      "text/html": [
       "<div>\n",
       "<style scoped>\n",
       "    .dataframe tbody tr th:only-of-type {\n",
       "        vertical-align: middle;\n",
       "    }\n",
       "\n",
       "    .dataframe tbody tr th {\n",
       "        vertical-align: top;\n",
       "    }\n",
       "\n",
       "    .dataframe thead th {\n",
       "        text-align: right;\n",
       "    }\n",
       "</style>\n",
       "<table border=\"1\" class=\"dataframe\">\n",
       "  <thead>\n",
       "    <tr style=\"text-align: right;\">\n",
       "      <th></th>\n",
       "      <th>title</th>\n",
       "      <th>date</th>\n",
       "      <th>category</th>\n",
       "      <th>content</th>\n",
       "    </tr>\n",
       "  </thead>\n",
       "  <tbody>\n",
       "    <tr>\n",
       "      <th>0</th>\n",
       "      <td>Is a Career in Tech Recession-Proof?</td>\n",
       "      <td>2022-08-12</td>\n",
       "      <td>Cloud Administration</td>\n",
       "      <td>Given the current economic climate, many econo...</td>\n",
       "    </tr>\n",
       "    <tr>\n",
       "      <th>1</th>\n",
       "      <td>Codeup X Superhero Car Show &amp; Comic Con</td>\n",
       "      <td>2022-08-10</td>\n",
       "      <td>Codeup News</td>\n",
       "      <td>Codeup had a blast at the San Antonio Superher...</td>\n",
       "    </tr>\n",
       "    <tr>\n",
       "      <th>2</th>\n",
       "      <td>What Jobs Can You Get After a Coding Bootcamp?...</td>\n",
       "      <td>2022-08-02</td>\n",
       "      <td>Featured</td>\n",
       "      <td>If you’re considering a career in web developm...</td>\n",
       "    </tr>\n",
       "    <tr>\n",
       "      <th>3</th>\n",
       "      <td>Codeup’s New Dallas Campus</td>\n",
       "      <td>2022-07-25</td>\n",
       "      <td>Codeup News</td>\n",
       "      <td>Codeup’s Dallas campus has a new location! For...</td>\n",
       "    </tr>\n",
       "    <tr>\n",
       "      <th>4</th>\n",
       "      <td>Codeup TV Commercial</td>\n",
       "      <td>2022-07-20</td>\n",
       "      <td>Codeup News</td>\n",
       "      <td>Codeup has officially made its TV debut! Our c...</td>\n",
       "    </tr>\n",
       "    <tr>\n",
       "      <th>5</th>\n",
       "      <td>What Jobs Can You Get After a Coding Bootcamp?...</td>\n",
       "      <td>2022-07-14</td>\n",
       "      <td>Featured</td>\n",
       "      <td>Have you been considering a career in Cloud Ad...</td>\n",
       "    </tr>\n",
       "  </tbody>\n",
       "</table>\n",
       "</div>"
      ],
      "text/plain": [
       "                                               title       date  \\\n",
       "0               Is a Career in Tech Recession-Proof? 2022-08-12   \n",
       "1            Codeup X Superhero Car Show & Comic Con 2022-08-10   \n",
       "2  What Jobs Can You Get After a Coding Bootcamp?... 2022-08-02   \n",
       "3                         Codeup’s New Dallas Campus 2022-07-25   \n",
       "4                               Codeup TV Commercial 2022-07-20   \n",
       "5  What Jobs Can You Get After a Coding Bootcamp?... 2022-07-14   \n",
       "\n",
       "               category                                            content  \n",
       "0  Cloud Administration  Given the current economic climate, many econo...  \n",
       "1           Codeup News  Codeup had a blast at the San Antonio Superher...  \n",
       "2              Featured  If you’re considering a career in web developm...  \n",
       "3           Codeup News  Codeup’s Dallas campus has a new location! For...  \n",
       "4           Codeup News  Codeup has officially made its TV debut! Our c...  \n",
       "5              Featured  Have you been considering a career in Cloud Ad...  "
      ]
     },
     "execution_count": 27,
     "metadata": {},
     "output_type": "execute_result"
    }
   ],
   "source": [
    "codeup_df = acquire.get_blog_articles()\n",
    "codeup_df"
   ]
  },
  {
   "cell_type": "markdown",
   "metadata": {},
   "source": [
    "## Exercise 8.\n",
    "For each dataframe, produce the following columns:\n",
    "\n",
    "- title to hold the title\n",
    "- original to hold the original article/post content\n",
    "- clean to hold the normalized and tokenized original with the stopwords removed.\n",
    "- stemmed to hold the stemmed version of the cleaned data.\n",
    "- lemmatized to hold the lemmatized version of the cleaned data."
   ]
  },
  {
   "cell_type": "code",
   "execution_count": 28,
   "metadata": {},
   "outputs": [],
   "source": [
    "# Rename the content columns to original \n",
    "news_df.rename(columns = {'content':'original'}, inplace = True)\n",
    "codeup_df.rename(columns = {'content':'original'}, inplace = True)"
   ]
  },
  {
   "cell_type": "code",
   "execution_count": 29,
   "metadata": {},
   "outputs": [
    {
     "data": {
      "text/html": [
       "<div>\n",
       "<style scoped>\n",
       "    .dataframe tbody tr th:only-of-type {\n",
       "        vertical-align: middle;\n",
       "    }\n",
       "\n",
       "    .dataframe tbody tr th {\n",
       "        vertical-align: top;\n",
       "    }\n",
       "\n",
       "    .dataframe thead th {\n",
       "        text-align: right;\n",
       "    }\n",
       "</style>\n",
       "<table border=\"1\" class=\"dataframe\">\n",
       "  <thead>\n",
       "    <tr style=\"text-align: right;\">\n",
       "      <th></th>\n",
       "      <th>category</th>\n",
       "      <th>title</th>\n",
       "      <th>author</th>\n",
       "      <th>date</th>\n",
       "      <th>original</th>\n",
       "      <th>clean</th>\n",
       "      <th>stemmed</th>\n",
       "      <th>lemmatized</th>\n",
       "    </tr>\n",
       "  </thead>\n",
       "  <tbody>\n",
       "    <tr>\n",
       "      <th>0</th>\n",
       "      <td>business</td>\n",
       "      <td>India's GDP grows at 13.5% in first quarter of...</td>\n",
       "      <td>Anmol Sharma</td>\n",
       "      <td>2022-08-31</td>\n",
       "      <td>India's GDP grew at 13.5% in the first quarter...</td>\n",
       "      <td>indias gdp grew 135 first quarter fy23 achievi...</td>\n",
       "      <td>india gdp grew 135 first quarter fy23 achiev f...</td>\n",
       "      <td>india gdp grew 135 first quarter fy23 achievin...</td>\n",
       "    </tr>\n",
       "    <tr>\n",
       "      <th>1</th>\n",
       "      <td>business</td>\n",
       "      <td>Musk seeks to delay Twitter trial to Nov amid ...</td>\n",
       "      <td>Ridham Gambhir</td>\n",
       "      <td>2022-08-31</td>\n",
       "      <td>Tesla CEO Elon Musk is seeking to delay the tr...</td>\n",
       "      <td>tesla ceo elon musk seeking delay trial twitte...</td>\n",
       "      <td>tesla ceo elon musk seek delay trial twitter n...</td>\n",
       "      <td>tesla ceo elon musk seeking delay trial twitte...</td>\n",
       "    </tr>\n",
       "    <tr>\n",
       "      <th>2</th>\n",
       "      <td>business</td>\n",
       "      <td>Snap to lay off 20% of staff, cancel several p...</td>\n",
       "      <td>Ananya Goyal</td>\n",
       "      <td>2022-08-31</td>\n",
       "      <td>Snap said on Wednesday it will lay off 20% of ...</td>\n",
       "      <td>snap said wednesday lay 20 staff shut original...</td>\n",
       "      <td>snap said wednesday lay 20 staff shut origin s...</td>\n",
       "      <td>snap said wednesday lay 20 staff shut original...</td>\n",
       "    </tr>\n",
       "    <tr>\n",
       "      <th>3</th>\n",
       "      <td>business</td>\n",
       "      <td>2 top executives at Snap quit hours after repo...</td>\n",
       "      <td>Ridham Gambhir</td>\n",
       "      <td>2022-08-31</td>\n",
       "      <td>Two senior advertising executives at Snap quit...</td>\n",
       "      <td>two senior advertising executives snap quit ho...</td>\n",
       "      <td>two senior advertis execut snap quit hour repo...</td>\n",
       "      <td>two senior advertising executive snap quit hou...</td>\n",
       "    </tr>\n",
       "    <tr>\n",
       "      <th>4</th>\n",
       "      <td>business</td>\n",
       "      <td>Viral video shows Amazon parcels thrown out of...</td>\n",
       "      <td>Apaar Sharma</td>\n",
       "      <td>2022-08-31</td>\n",
       "      <td>A video from Guwahati railway station has gone...</td>\n",
       "      <td>video guwahati railway station gone viral show...</td>\n",
       "      <td>video guwahati railway station gone viral show...</td>\n",
       "      <td>video guwahati railway station gone viral show...</td>\n",
       "    </tr>\n",
       "    <tr>\n",
       "      <th>...</th>\n",
       "      <td>...</td>\n",
       "      <td>...</td>\n",
       "      <td>...</td>\n",
       "      <td>...</td>\n",
       "      <td>...</td>\n",
       "      <td>...</td>\n",
       "      <td>...</td>\n",
       "      <td>...</td>\n",
       "    </tr>\n",
       "    <tr>\n",
       "      <th>95</th>\n",
       "      <td>entertainment</td>\n",
       "      <td>S Korea may hold survey on BTS members' mandat...</td>\n",
       "      <td>Indraneel Sen</td>\n",
       "      <td>2022-08-31</td>\n",
       "      <td>South Korea is considering a survey to determi...</td>\n",
       "      <td>south korea considering survey determine wheth...</td>\n",
       "      <td>south korea consid survey determin whether mem...</td>\n",
       "      <td>south korea considering survey determine wheth...</td>\n",
       "    </tr>\n",
       "    <tr>\n",
       "      <th>96</th>\n",
       "      <td>entertainment</td>\n",
       "      <td>Judge 'The Kashmir...' according to its cinema...</td>\n",
       "      <td>Amartya Sharma</td>\n",
       "      <td>2022-08-31</td>\n",
       "      <td>'The Kashmir Files' actress Pallavi Joshi has ...</td>\n",
       "      <td>kashmir files actress pallavi joshi responded ...</td>\n",
       "      <td>kashmir file actress pallavi joshi respond opp...</td>\n",
       "      <td>kashmir file actress pallavi joshi responded o...</td>\n",
       "    </tr>\n",
       "    <tr>\n",
       "      <th>97</th>\n",
       "      <td>entertainment</td>\n",
       "      <td>Response to 'Delhi Crime 2' is enormous: Actre...</td>\n",
       "      <td>Amartya Sharma</td>\n",
       "      <td>2022-08-31</td>\n",
       "      <td>Actress Shefali Shah, speaking about the recen...</td>\n",
       "      <td>actress shefali shah speaking recently release...</td>\n",
       "      <td>actress shefali shah speak recent releas new s...</td>\n",
       "      <td>actress shefali shah speaking recently release...</td>\n",
       "    </tr>\n",
       "    <tr>\n",
       "      <th>98</th>\n",
       "      <td>entertainment</td>\n",
       "      <td>We have been inviting Bappa for almost 60 year...</td>\n",
       "      <td>Amartya Sharma</td>\n",
       "      <td>2022-08-31</td>\n",
       "      <td>Actress Shraddha Kapoor, speaking on the occas...</td>\n",
       "      <td>actress shraddha kapoor speaking occasion gane...</td>\n",
       "      <td>actress shraddha kapoor speak occas ganesh cha...</td>\n",
       "      <td>actress shraddha kapoor speaking occasion gane...</td>\n",
       "    </tr>\n",
       "    <tr>\n",
       "      <th>99</th>\n",
       "      <td>entertainment</td>\n",
       "      <td>Allu Arjun's 'Pushpa: The Rise' screened at Mo...</td>\n",
       "      <td>Kameshwari</td>\n",
       "      <td>2022-08-31</td>\n",
       "      <td>Allu Arjun's 'Pushpa: The Rise' was recently s...</td>\n",
       "      <td>allu arjuns pushpa rise recently screened mosc...</td>\n",
       "      <td>allu arjun pushpa rise recent screen moscow in...</td>\n",
       "      <td>allu arjuns pushpa rise recently screened mosc...</td>\n",
       "    </tr>\n",
       "  </tbody>\n",
       "</table>\n",
       "<p>100 rows × 8 columns</p>\n",
       "</div>"
      ],
      "text/plain": [
       "         category                                              title  \\\n",
       "0        business  India's GDP grows at 13.5% in first quarter of...   \n",
       "1        business  Musk seeks to delay Twitter trial to Nov amid ...   \n",
       "2        business  Snap to lay off 20% of staff, cancel several p...   \n",
       "3        business  2 top executives at Snap quit hours after repo...   \n",
       "4        business  Viral video shows Amazon parcels thrown out of...   \n",
       "..            ...                                                ...   \n",
       "95  entertainment  S Korea may hold survey on BTS members' mandat...   \n",
       "96  entertainment  Judge 'The Kashmir...' according to its cinema...   \n",
       "97  entertainment  Response to 'Delhi Crime 2' is enormous: Actre...   \n",
       "98  entertainment  We have been inviting Bappa for almost 60 year...   \n",
       "99  entertainment  Allu Arjun's 'Pushpa: The Rise' screened at Mo...   \n",
       "\n",
       "            author       date  \\\n",
       "0     Anmol Sharma 2022-08-31   \n",
       "1   Ridham Gambhir 2022-08-31   \n",
       "2     Ananya Goyal 2022-08-31   \n",
       "3   Ridham Gambhir 2022-08-31   \n",
       "4     Apaar Sharma 2022-08-31   \n",
       "..             ...        ...   \n",
       "95   Indraneel Sen 2022-08-31   \n",
       "96  Amartya Sharma 2022-08-31   \n",
       "97  Amartya Sharma 2022-08-31   \n",
       "98  Amartya Sharma 2022-08-31   \n",
       "99      Kameshwari 2022-08-31   \n",
       "\n",
       "                                             original  \\\n",
       "0   India's GDP grew at 13.5% in the first quarter...   \n",
       "1   Tesla CEO Elon Musk is seeking to delay the tr...   \n",
       "2   Snap said on Wednesday it will lay off 20% of ...   \n",
       "3   Two senior advertising executives at Snap quit...   \n",
       "4   A video from Guwahati railway station has gone...   \n",
       "..                                                ...   \n",
       "95  South Korea is considering a survey to determi...   \n",
       "96  'The Kashmir Files' actress Pallavi Joshi has ...   \n",
       "97  Actress Shefali Shah, speaking about the recen...   \n",
       "98  Actress Shraddha Kapoor, speaking on the occas...   \n",
       "99  Allu Arjun's 'Pushpa: The Rise' was recently s...   \n",
       "\n",
       "                                                clean  \\\n",
       "0   indias gdp grew 135 first quarter fy23 achievi...   \n",
       "1   tesla ceo elon musk seeking delay trial twitte...   \n",
       "2   snap said wednesday lay 20 staff shut original...   \n",
       "3   two senior advertising executives snap quit ho...   \n",
       "4   video guwahati railway station gone viral show...   \n",
       "..                                                ...   \n",
       "95  south korea considering survey determine wheth...   \n",
       "96  kashmir files actress pallavi joshi responded ...   \n",
       "97  actress shefali shah speaking recently release...   \n",
       "98  actress shraddha kapoor speaking occasion gane...   \n",
       "99  allu arjuns pushpa rise recently screened mosc...   \n",
       "\n",
       "                                              stemmed  \\\n",
       "0   india gdp grew 135 first quarter fy23 achiev f...   \n",
       "1   tesla ceo elon musk seek delay trial twitter n...   \n",
       "2   snap said wednesday lay 20 staff shut origin s...   \n",
       "3   two senior advertis execut snap quit hour repo...   \n",
       "4   video guwahati railway station gone viral show...   \n",
       "..                                                ...   \n",
       "95  south korea consid survey determin whether mem...   \n",
       "96  kashmir file actress pallavi joshi respond opp...   \n",
       "97  actress shefali shah speak recent releas new s...   \n",
       "98  actress shraddha kapoor speak occas ganesh cha...   \n",
       "99  allu arjun pushpa rise recent screen moscow in...   \n",
       "\n",
       "                                           lemmatized  \n",
       "0   india gdp grew 135 first quarter fy23 achievin...  \n",
       "1   tesla ceo elon musk seeking delay trial twitte...  \n",
       "2   snap said wednesday lay 20 staff shut original...  \n",
       "3   two senior advertising executive snap quit hou...  \n",
       "4   video guwahati railway station gone viral show...  \n",
       "..                                                ...  \n",
       "95  south korea considering survey determine wheth...  \n",
       "96  kashmir file actress pallavi joshi responded o...  \n",
       "97  actress shefali shah speaking recently release...  \n",
       "98  actress shraddha kapoor speaking occasion gane...  \n",
       "99  allu arjuns pushpa rise recently screened mosc...  \n",
       "\n",
       "[100 rows x 8 columns]"
      ]
     },
     "execution_count": 29,
     "metadata": {},
     "output_type": "execute_result"
    }
   ],
   "source": [
    "## Starting with the news_df\n",
    "\n",
    "news_df['clean'] = news_df['original']\n",
    "\n",
    "#apply the basic_clean, tokenize, and remove_stopwords functions\n",
    "news_df['clean'] = news_df['clean'].apply(basic_clean).apply(tokenize).apply(remove_stopwords)\n",
    "\n",
    "#create the stemmed column\n",
    "news_df['stemmed'] = news_df['clean']\n",
    "\n",
    "#apply the stem function\n",
    "news_df['stemmed'] = news_df['stemmed'].apply(stem)\n",
    "\n",
    "#create the lematize column\n",
    "news_df['lemmatized'] = news_df['clean']\n",
    "\n",
    "#apply the lemmatize function\n",
    "news_df['lemmatized'] = news_df['lemmatized'].apply(lemmatize)\n",
    "\n",
    "news_df"
   ]
  },
  {
   "cell_type": "code",
   "execution_count": 30,
   "metadata": {},
   "outputs": [
    {
     "data": {
      "text/html": [
       "<div>\n",
       "<style scoped>\n",
       "    .dataframe tbody tr th:only-of-type {\n",
       "        vertical-align: middle;\n",
       "    }\n",
       "\n",
       "    .dataframe tbody tr th {\n",
       "        vertical-align: top;\n",
       "    }\n",
       "\n",
       "    .dataframe thead th {\n",
       "        text-align: right;\n",
       "    }\n",
       "</style>\n",
       "<table border=\"1\" class=\"dataframe\">\n",
       "  <thead>\n",
       "    <tr style=\"text-align: right;\">\n",
       "      <th></th>\n",
       "      <th>title</th>\n",
       "      <th>date</th>\n",
       "      <th>category</th>\n",
       "      <th>original</th>\n",
       "      <th>clean</th>\n",
       "      <th>stemmed</th>\n",
       "      <th>lemmatized</th>\n",
       "    </tr>\n",
       "  </thead>\n",
       "  <tbody>\n",
       "    <tr>\n",
       "      <th>0</th>\n",
       "      <td>Is a Career in Tech Recession-Proof?</td>\n",
       "      <td>2022-08-12</td>\n",
       "      <td>Cloud Administration</td>\n",
       "      <td>Given the current economic climate, many econo...</td>\n",
       "      <td>given current economic climate many economists...</td>\n",
       "      <td>given current econom climat mani economist con...</td>\n",
       "      <td>given current economic climate many economist ...</td>\n",
       "    </tr>\n",
       "    <tr>\n",
       "      <th>1</th>\n",
       "      <td>Codeup X Superhero Car Show &amp; Comic Con</td>\n",
       "      <td>2022-08-10</td>\n",
       "      <td>Codeup News</td>\n",
       "      <td>Codeup had a blast at the San Antonio Superher...</td>\n",
       "      <td>codeup blast san antonio superhero car show co...</td>\n",
       "      <td>codeup blast san antonio superhero car show co...</td>\n",
       "      <td>codeup blast san antonio superhero car show co...</td>\n",
       "    </tr>\n",
       "    <tr>\n",
       "      <th>2</th>\n",
       "      <td>What Jobs Can You Get After a Coding Bootcamp?...</td>\n",
       "      <td>2022-08-02</td>\n",
       "      <td>Featured</td>\n",
       "      <td>If you’re considering a career in web developm...</td>\n",
       "      <td>youre considering career web development dont ...</td>\n",
       "      <td>your consid career web develop dont know expec...</td>\n",
       "      <td>youre considering career web development dont ...</td>\n",
       "    </tr>\n",
       "    <tr>\n",
       "      <th>3</th>\n",
       "      <td>Codeup’s New Dallas Campus</td>\n",
       "      <td>2022-07-25</td>\n",
       "      <td>Codeup News</td>\n",
       "      <td>Codeup’s Dallas campus has a new location! For...</td>\n",
       "      <td>codeups dallas campus new location two years c...</td>\n",
       "      <td>codeup dalla campu new locat two year codeup o...</td>\n",
       "      <td>codeups dallas campus new location two year co...</td>\n",
       "    </tr>\n",
       "    <tr>\n",
       "      <th>4</th>\n",
       "      <td>Codeup TV Commercial</td>\n",
       "      <td>2022-07-20</td>\n",
       "      <td>Codeup News</td>\n",
       "      <td>Codeup has officially made its TV debut! Our c...</td>\n",
       "      <td>codeup officially made tv debut community stud...</td>\n",
       "      <td>codeup offici made tv debut commun student sta...</td>\n",
       "      <td>codeup officially made tv debut community stud...</td>\n",
       "    </tr>\n",
       "    <tr>\n",
       "      <th>5</th>\n",
       "      <td>What Jobs Can You Get After a Coding Bootcamp?...</td>\n",
       "      <td>2022-07-14</td>\n",
       "      <td>Featured</td>\n",
       "      <td>Have you been considering a career in Cloud Ad...</td>\n",
       "      <td>considering career cloud administration idea j...</td>\n",
       "      <td>consid career cloud administr idea job titl po...</td>\n",
       "      <td>considering career cloud administration idea j...</td>\n",
       "    </tr>\n",
       "  </tbody>\n",
       "</table>\n",
       "</div>"
      ],
      "text/plain": [
       "                                               title       date  \\\n",
       "0               Is a Career in Tech Recession-Proof? 2022-08-12   \n",
       "1            Codeup X Superhero Car Show & Comic Con 2022-08-10   \n",
       "2  What Jobs Can You Get After a Coding Bootcamp?... 2022-08-02   \n",
       "3                         Codeup’s New Dallas Campus 2022-07-25   \n",
       "4                               Codeup TV Commercial 2022-07-20   \n",
       "5  What Jobs Can You Get After a Coding Bootcamp?... 2022-07-14   \n",
       "\n",
       "               category                                           original  \\\n",
       "0  Cloud Administration  Given the current economic climate, many econo...   \n",
       "1           Codeup News  Codeup had a blast at the San Antonio Superher...   \n",
       "2              Featured  If you’re considering a career in web developm...   \n",
       "3           Codeup News  Codeup’s Dallas campus has a new location! For...   \n",
       "4           Codeup News  Codeup has officially made its TV debut! Our c...   \n",
       "5              Featured  Have you been considering a career in Cloud Ad...   \n",
       "\n",
       "                                               clean  \\\n",
       "0  given current economic climate many economists...   \n",
       "1  codeup blast san antonio superhero car show co...   \n",
       "2  youre considering career web development dont ...   \n",
       "3  codeups dallas campus new location two years c...   \n",
       "4  codeup officially made tv debut community stud...   \n",
       "5  considering career cloud administration idea j...   \n",
       "\n",
       "                                             stemmed  \\\n",
       "0  given current econom climat mani economist con...   \n",
       "1  codeup blast san antonio superhero car show co...   \n",
       "2  your consid career web develop dont know expec...   \n",
       "3  codeup dalla campu new locat two year codeup o...   \n",
       "4  codeup offici made tv debut commun student sta...   \n",
       "5  consid career cloud administr idea job titl po...   \n",
       "\n",
       "                                          lemmatized  \n",
       "0  given current economic climate many economist ...  \n",
       "1  codeup blast san antonio superhero car show co...  \n",
       "2  youre considering career web development dont ...  \n",
       "3  codeups dallas campus new location two year co...  \n",
       "4  codeup officially made tv debut community stud...  \n",
       "5  considering career cloud administration idea j...  "
      ]
     },
     "execution_count": 30,
     "metadata": {},
     "output_type": "execute_result"
    }
   ],
   "source": [
    "## Now apply the same to the codeup_df\n",
    "\n",
    "codeup_df['clean'] = codeup_df['original']\n",
    "\n",
    "#apply the basic_clean, tokenize, and remove_stopwords functions\n",
    "codeup_df['clean'] = codeup_df['clean'].apply(basic_clean).apply(tokenize).apply(remove_stopwords)\n",
    "\n",
    "#create the stemmed column\n",
    "codeup_df['stemmed'] = codeup_df['clean']\n",
    "\n",
    "#apply the stem function\n",
    "codeup_df['stemmed'] = codeup_df['stemmed'].apply(stem)\n",
    "\n",
    "#create the lematize column\n",
    "codeup_df['lemmatized'] = codeup_df['clean']\n",
    "\n",
    "#apply the lemmatize function\n",
    "codeup_df['lemmatized'] = codeup_df['lemmatized'].apply(lemmatize)\n",
    "\n",
    "codeup_df"
   ]
  },
  {
   "cell_type": "markdown",
   "metadata": {},
   "source": [
    "## Exercise 9.\n",
    "Ask yourself:\n",
    "\n",
    "- If your corpus is 493KB, would you prefer to use stemmed or lemmatized text? \n",
    "- If your corpus is 25MB, would you prefer to use stemmed or lemmatized text? \n",
    "- If your corpus is 200TB of text and you're charged by the megabyte for your hosted computational resources, would you prefer to use stemmed or lemmatized text?"
   ]
  },
  {
   "cell_type": "markdown",
   "metadata": {},
   "source": [
    "Asking myself complete :P"
   ]
  }
 ],
 "metadata": {
  "kernelspec": {
   "display_name": "Python 3.9.12 ('base')",
   "language": "python",
   "name": "python3"
  },
  "language_info": {
   "codemirror_mode": {
    "name": "ipython",
    "version": 3
   },
   "file_extension": ".py",
   "mimetype": "text/x-python",
   "name": "python",
   "nbconvert_exporter": "python",
   "pygments_lexer": "ipython3",
   "version": "3.9.12"
  },
  "orig_nbformat": 4,
  "vscode": {
   "interpreter": {
    "hash": "3067ead486e059ec00ffe7555bdb889e6e264a24dc711bf108106cc7baee8d5d"
   }
  }
 },
 "nbformat": 4,
 "nbformat_minor": 2
}
