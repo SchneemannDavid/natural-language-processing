{
 "cells": [
  {
   "cell_type": "code",
   "execution_count": 28,
   "id": "6a4bf7b4",
   "metadata": {},
   "outputs": [],
   "source": [
    "from requests import get\n",
    "from bs4 import BeautifulSoup\n",
    "import numpy as np\n",
    "import pandas as pd\n",
    "import os"
   ]
  },
  {
   "cell_type": "markdown",
   "id": "e0110d21",
   "metadata": {},
   "source": [
    "## Exercises"
   ]
  },
  {
   "cell_type": "markdown",
   "id": "bea0a316",
   "metadata": {},
   "source": [
    "By the end of this exercise, you should have a file named acquire.py that contains the specified functions. If you wish, you may break your work into separate files for each website (e.g. acquire_codeup_blog.py and acquire_news_articles.py), but the end function should be present in acquire.py (that is, acquire.py should import get_blog_articles from the acquire_codeup_blog module.)\n",
    "\n"
   ]
  },
  {
   "cell_type": "markdown",
   "id": "542b4a14",
   "metadata": {},
   "source": [
    "### 1. Codeup Blog Articles\n",
    "\n",
    "Visit Codeup's Blog and record the urls for at least 5 distinct blog posts. For each post, you should scrape at least the post's title and content.\n",
    "\n",
    "Encapsulate your work in a function named get_blog_articles that will return a list of dictionaries, with each dictionary representing one article. The shape of each dictionary should look like this:"
   ]
  },
  {
   "cell_type": "code",
   "execution_count": 2,
   "id": "d64ba04b",
   "metadata": {},
   "outputs": [
    {
     "data": {
      "text/plain": [
       "{'title': 'the title of the article',\n",
       " 'content': 'the full text content of the article'}"
      ]
     },
     "execution_count": 2,
     "metadata": {},
     "output_type": "execute_result"
    }
   ],
   "source": [
    "{\n",
    "    'title': 'the title of the article',\n",
    "    'content': 'the full text content of the article'\n",
    "}\n"
   ]
  },
  {
   "cell_type": "markdown",
   "id": "78d2a387",
   "metadata": {},
   "source": [
    "Plus any additional properties you think might be helpful."
   ]
  },
  {
   "cell_type": "markdown",
   "id": "49c808ee",
   "metadata": {},
   "source": [
    "---"
   ]
  },
  {
   "cell_type": "markdown",
   "id": "9afa1600",
   "metadata": {},
   "source": [
    "### Set URLS"
   ]
  },
  {
   "cell_type": "code",
   "execution_count": 3,
   "id": "75d9488a",
   "metadata": {},
   "outputs": [],
   "source": [
    "# get urls \n",
    "url1 = \"https://codeup.com/data-science/jobs-after-a-coding-bootcamp-part-1-data-science/\"\n",
    "url2 = \"https://codeup.com/featured/what-jobs-can-you-get-after-a-coding-bootcamp-part-2-cloud-administration/\"\n",
    "url3 = \"https://codeup.com/workshops/san-antonio/in-person-workshop-learn-to-code-javascript-on-7-26/\"\n",
    "url4 = \"https://codeup.com/workshops/in-person-workshop-learn-to-code-python-on-7-19/\"\n",
    "url5 = \"https://codeup.com/tips-for-prospective-students/is-our-cloud-administration-program-right-for-you/\""
   ]
  },
  {
   "cell_type": "markdown",
   "id": "30372381",
   "metadata": {},
   "source": [
    "### URL 1"
   ]
  },
  {
   "cell_type": "code",
   "execution_count": 4,
   "id": "1dddb044",
   "metadata": {},
   "outputs": [],
   "source": [
    "# set headers and response\n",
    "headers = {'User-Agent': 'CodeUp Data Science'}\n",
    "response = get(url1, headers=headers)"
   ]
  },
  {
   "cell_type": "code",
   "execution_count": 5,
   "id": "12f9e4ad",
   "metadata": {},
   "outputs": [
    {
     "name": "stdout",
     "output_type": "stream",
     "text": [
      "<!DOCTYPE html>\n",
      "<html lang=\"en-US\">\n",
      "<head>\n",
      "\t<meta charset=\"UTF-8\" />\n",
      "<meta http-equiv=\"X-UA-Compatible\" content=\"IE=edge\">\n",
      "\t<link rel=\"pingback\" href=\"https://codeup.com/xmlrpc.php\" />\n",
      "\n",
      "\t<script type=\"text/javascript\">\n",
      "\t\tdocument.documentElement.className = 'js';\n",
      "\t</script>\n",
      "\t\n",
      "\t<link rel=\"preconnect\" href=\"https://fonts.gstatic.com\" crossorigin /><script id=\"diviarea-loader\">window.DiviPopupData=wi\n"
     ]
    }
   ],
   "source": [
    "# sanity check\n",
    "print(response.text[:400])"
   ]
  },
  {
   "cell_type": "code",
   "execution_count": 6,
   "id": "344e94b8",
   "metadata": {},
   "outputs": [],
   "source": [
    "# Make a soup variable holding the response content\n",
    "soup = BeautifulSoup(response.content, 'html.parser')"
   ]
  },
  {
   "cell_type": "code",
   "execution_count": 7,
   "id": "8715aedb",
   "metadata": {},
   "outputs": [
    {
     "data": {
      "text/plain": [
       "[<div class=\"et_post_meta_wrapper\">\n",
       " <h1 class=\"entry-title\">What Jobs Can You Get After a Coding Bootcamp? Part 1: Data Science</h1>\n",
       " <p class=\"post-meta\"><span class=\"published\">Jul 7, 2022</span> | <a href=\"https://codeup.com/category/data-science/\" rel=\"category tag\">Data Science</a>, <a href=\"https://codeup.com/category/featured/\" rel=\"category tag\">Featured</a>, <a href=\"https://codeup.com/category/tips-for-prospective-students/\" rel=\"category tag\">Tips for Prospective Students</a></p><img alt=\"Data Science Biog Header\" class=\"\" height=\"675\" sizes=\"(min-width: 0px) and (max-width: 480px) 480px, (min-width: 481px) 1080px, 100vw\" src=\"https://199lj33nqk3p88xz03dvn481-wpengine.netdna-ssl.com/wp-content/uploads/2022/07/CA-Blog-Header-1.png\" srcset=\"https://199lj33nqk3p88xz03dvn481-wpengine.netdna-ssl.com/wp-content/uploads/2022/07/CA-Blog-Header-1.png 1080w, https://199lj33nqk3p88xz03dvn481-wpengine.netdna-ssl.com/wp-content/uploads/2022/07/CA-Blog-Header-1-480x279.png 480w\" width=\"1080\"/>\n",
       " </div>,\n",
       " <div class=\"et_post_meta_wrapper\">\n",
       " </div>]"
      ]
     },
     "execution_count": 7,
     "metadata": {},
     "output_type": "execute_result"
    }
   ],
   "source": [
    "soup.select('div.et_post_meta_wrapper')"
   ]
  },
  {
   "cell_type": "markdown",
   "id": "90b2a93b",
   "metadata": {},
   "source": [
    "### With the post meta wrapper I can view\n",
    "- The entry-title\n",
    "- The span class published\n",
    "- Category Tag\n",
    "- entry-content"
   ]
  },
  {
   "cell_type": "code",
   "execution_count": 8,
   "id": "b5790076",
   "metadata": {},
   "outputs": [
    {
     "data": {
      "text/plain": [
       "'What Jobs Can You Get After a Coding Bootcamp? Part 1: Data Science'"
      ]
     },
     "execution_count": 8,
     "metadata": {},
     "output_type": "execute_result"
    }
   ],
   "source": [
    "# get the title of the article\n",
    "title = soup.find('h1', class_ = 'entry-title').text\n",
    "title"
   ]
  },
  {
   "cell_type": "code",
   "execution_count": 9,
   "id": "f4467031",
   "metadata": {},
   "outputs": [
    {
     "data": {
      "text/plain": [
       "'Jul 7, 2022'"
      ]
     },
     "execution_count": 9,
     "metadata": {},
     "output_type": "execute_result"
    }
   ],
   "source": [
    "# get the date published\n",
    "published = soup.find('span', class_='published').text\n",
    "published"
   ]
  },
  {
   "cell_type": "code",
   "execution_count": 10,
   "id": "4a315043",
   "metadata": {},
   "outputs": [
    {
     "data": {
      "text/plain": [
       "'Data Science'"
      ]
     },
     "execution_count": 10,
     "metadata": {},
     "output_type": "execute_result"
    }
   ],
   "source": [
    "# get article category\n",
    "category = soup.find('a', rel='category tag').text\n",
    "category"
   ]
  },
  {
   "cell_type": "code",
   "execution_count": 11,
   "id": "d6e4059f",
   "metadata": {},
   "outputs": [
    {
     "data": {
      "text/plain": [
       "'If you are interested in embarking on a career in tech, you’re probably wondering what your new job title could be, and even what your salary might look like.*\\xa0In this mini-series, we will take each of our programs here at Codeup: Data Science, Web Development, and Cloud Administration, and outline respectively potential job titles, as well as entry-level salaries.\\xa0Today we will be diving into our Data Science program, with four potential job titles you could take on! Program Overview\\xa0 During this 20-week program, you will have the opportunity to take your career to new heights with data science being one of the most needed jobs in tech. You’ll gather data, then clean it, explore it for trends, and apply machine learning models to make predictions. Upon completing this program, you will know how to turn insights into actionable recommendations. You’ll be a huge asset to any company, having all the technical skills to become a data scientist with projects upon projects of experience under your belt.\\xa0 1. Data Scientist\\xa0 Essentially, a Data Scientist is responsible for analyzing how a business performs to ensure the business stays competitive and relevant. They review the data for deeper meaning and examine it for patterns in an effort to create solutions to business problems. According to Zip Recruiter, the average entry-level salary for a Data Scientist in Texas is $60,677. 2. Data Analyst A Data Analyst finds ways to solve a business’ problems through raw data analysis. They are then responsible for sharing this information with management and stakeholders. According to Indeed, the average entry-level salary for a Data Analyst is $60,332. 3. Machine Learning Engineer\\xa0 A Machine Learning (ML) Engineer is usually on a Data Science team. They are responsible for artificial intelligence, and its functions as well as making predictions on other machine learning capabilities. They will create ML prototypes and models, then test and retrain where necessary. According to Salary.com, the average entry-level salary for a ML Engineer is $115,795. 4. Business Intelligence Analyst\\xa0 A Business Intelligence Analyst, also known as a BI Analyst is responsible for understanding computer programming languages. Their primary goal is to give accurate insight to decision-makers regarding the market, productivity, competition, and customer responses. According to Payscale, the average entry-level salary for a BI Analyst is $58,627. We understand changing careers can be scary. If you chose Codeup, we will make sure you are plenty prepared to not only take on one of these roles but succeed in it.\\xa0 This program gives you more than a textbook and a bank of pre-recorded lectures. You get hands-on instruction from industry experts, along with the power to change your life.\\xa0 If you’re ready, apply today and let’s turn your dreams into reality and get your seat secured in our next Data Science cohort.\\xa0 \\xa0 *Disclaimer: All information presented in this article is by no means guaranteed by completing a Codeup program. Salaries and duties vary based on factors such as company, location, and experience. These salaries are estimates based on San Antonio, TX data, and these duties are general and may not be exact for every position.'"
      ]
     },
     "execution_count": 11,
     "metadata": {},
     "output_type": "execute_result"
    }
   ],
   "source": [
    "#get article content\n",
    "content = soup.find('div', class_='entry-content').text.strip().replace('\\n', ' ')\n",
    "content"
   ]
  },
  {
   "cell_type": "code",
   "execution_count": 12,
   "id": "ee415740",
   "metadata": {},
   "outputs": [],
   "source": [
    "def parse_blog_articles(url):\n",
    "    \"\"\"\n",
    "    This function used together with the get_blog_articles() function, \n",
    "    parses the html from the website and displays it in python\n",
    "    \"\"\"\n",
    "    url = url\n",
    "    \n",
    "    # establish header\n",
    "    headers = {'User-Agent':'CodeUp Data Science'}\n",
    "    response = get(url, headers=headers)\n",
    "    \n",
    "    # create soup variable containing response content\n",
    "    soup = BeautifulSoup(response.content, 'html.parser')\n",
    "    \n",
    "    # create a dictionary that holds each url and its content\n",
    "    output = {}\n",
    "    output['title'] = soup.find('h1', class_ = 'entry-title').text\n",
    "    output['published'] = soup.find('span', class_='published').text\n",
    "    output['category'] = soup.find('a', rel='category tag').text\n",
    "    output['content'] = soup.find('div', class_='entry-content').text.strip().replace('\\n', ' ')\n",
    "    \n",
    "    return output"
   ]
  },
  {
   "cell_type": "code",
   "execution_count": 13,
   "id": "bf44e0fc",
   "metadata": {},
   "outputs": [],
   "source": [
    "def get_blog_articles(url):\n",
    "    \"\"\"\n",
    "    This function takes in a list of url from CodeUp blod articles.\n",
    "    Used with pare_blog_articles, it looks for title, published date, category, and content\n",
    "    then displays them.\n",
    "    \"\"\"\n",
    "    output = []\n",
    "    \n",
    "    for urls in url:\n",
    "        output.append(parse_blog_articles(urls))\n",
    "        \n",
    "    return output"
   ]
  },
  {
   "cell_type": "code",
   "execution_count": 14,
   "id": "d2ef4816",
   "metadata": {},
   "outputs": [],
   "source": [
    "# create a list of urls\n",
    "url_list = [url1, url2, url3, url4, url5]"
   ]
  },
  {
   "cell_type": "code",
   "execution_count": 15,
   "id": "aec71507",
   "metadata": {
    "scrolled": false
   },
   "outputs": [
    {
     "data": {
      "text/plain": [
       "[{'title': 'What Jobs Can You Get After a Coding Bootcamp? Part 1: Data Science',\n",
       "  'published': 'Jul 7, 2022',\n",
       "  'category': 'Data Science',\n",
       "  'content': 'If you are interested in embarking on a career in tech, you’re probably wondering what your new job title could be, and even what your salary might look like.*\\xa0In this mini-series, we will take each of our programs here at Codeup: Data Science, Web Development, and Cloud Administration, and outline respectively potential job titles, as well as entry-level salaries.\\xa0Today we will be diving into our Data Science program, with four potential job titles you could take on! Program Overview\\xa0 During this 20-week program, you will have the opportunity to take your career to new heights with data science being one of the most needed jobs in tech. You’ll gather data, then clean it, explore it for trends, and apply machine learning models to make predictions. Upon completing this program, you will know how to turn insights into actionable recommendations. You’ll be a huge asset to any company, having all the technical skills to become a data scientist with projects upon projects of experience under your belt.\\xa0 1. Data Scientist\\xa0 Essentially, a Data Scientist is responsible for analyzing how a business performs to ensure the business stays competitive and relevant. They review the data for deeper meaning and examine it for patterns in an effort to create solutions to business problems. According to Zip Recruiter, the average entry-level salary for a Data Scientist in Texas is $60,677. 2. Data Analyst A Data Analyst finds ways to solve a business’ problems through raw data analysis. They are then responsible for sharing this information with management and stakeholders. According to Indeed, the average entry-level salary for a Data Analyst is $60,332. 3. Machine Learning Engineer\\xa0 A Machine Learning (ML) Engineer is usually on a Data Science team. They are responsible for artificial intelligence, and its functions as well as making predictions on other machine learning capabilities. They will create ML prototypes and models, then test and retrain where necessary. According to Salary.com, the average entry-level salary for a ML Engineer is $115,795. 4. Business Intelligence Analyst\\xa0 A Business Intelligence Analyst, also known as a BI Analyst is responsible for understanding computer programming languages. Their primary goal is to give accurate insight to decision-makers regarding the market, productivity, competition, and customer responses. According to Payscale, the average entry-level salary for a BI Analyst is $58,627. We understand changing careers can be scary. If you chose Codeup, we will make sure you are plenty prepared to not only take on one of these roles but succeed in it.\\xa0 This program gives you more than a textbook and a bank of pre-recorded lectures. You get hands-on instruction from industry experts, along with the power to change your life.\\xa0 If you’re ready, apply today and let’s turn your dreams into reality and get your seat secured in our next Data Science cohort.\\xa0 \\xa0 *Disclaimer: All information presented in this article is by no means guaranteed by completing a Codeup program. Salaries and duties vary based on factors such as company, location, and experience. These salaries are estimates based on San Antonio, TX data, and these duties are general and may not be exact for every position.'},\n",
       " {'title': 'What Jobs Can You Get After a Coding Bootcamp? Part 2: Cloud Administration',\n",
       "  'published': 'Jul 14, 2022',\n",
       "  'category': 'Featured',\n",
       "  'content': 'Have you been considering a career in Cloud Administration, but have no idea what your job title or potential salary could be? Continue reading below to find out! In this mini-series, we will take each of our programs here at Codeup: Data Science, Web Development, and Cloud Administration, and outline respectively potential job titles, as well as entry-level salaries.*\\xa0Let’s discuss Cloud Administration. Program Overview At Codeup, we offer a 15-week Cloud Administration program, which was derived from our previous two programs: Systems Engineering and Cyber Cloud. We combined the best of both and blended hands-on practical knowledge with skilled instructors to create the Cloud Administration program. Upon completing this program, you’ll have the opportunity to take on two exams for certifications: Amazon Web Services (AWS) Cloud Practitioner and AWS Solutions Architect Associate.\\xa0 Potential Jobs According to A Cloud Guru, with an AWS Certification you’ll be equipped with the knowledge and experience to secure a job as the following: 1. Cloud Architect As a Cloud Architect, you will double as an IT specialist responsible for your organization’s cloud infrastructure. This includes system monitoring, computing strategy, planning, building and deployment. An entry-level Cloud Architect can make an estimated $93,892 annually according to Glassdoor.\\xa0 2. Cloud Developer A Cloud Developer’s main duties align with a software developer’s. The differentiating factor is a Cloud Developer operates virtually with cloud computing technology. This may include the design, analysis and maintenance of a company’s cloud infrastructure. An entry-level Cloud Developer can make an estimated $89,652 annually according to Glassdoor.\\xa0 3. Cloud Systems Administrator A Cloud Systems Administrator can be expected to provide insight on cloud systems, specifically working with IT to provide assistance and resolve operational issues. An entry-level Cloud Systems Administrator can make an estimated $64,805 annually according to Glassdoor. Honorable Mention A few additional roles to consider with AWS Certification include:\\xa0  Cloud DevOps Engineer- Estimated Entry-Level Salary $88,563 Cloud Security Engineer- Estimated Entry-Level Salary $85,111 Cloud Data Architect- Estimated Entry-Level Salary $91,598 Cloud Consultant- Estimated Entry-Level Salary $72,474  Interested in the other parts of this mini-series? Check them out below!  Part 1: Data Science Part 3: Web Development (Coming Soon!)\\xa0  *Disclaimer: All information presented in this article is by no means guaranteed by completing a Codeup program. Salaries and duties vary based on factors such as company, location, and experience. These salaries are estimates based on San Antonio, TX data, and these duties are general and may not be exact for every position.'},\n",
       " {'title': 'In-Person Workshop: Learn to Code – JavaScript on 7/26',\n",
       "  'published': 'Jul 6, 2022',\n",
       "  'category': 'San Antonio',\n",
       "  'content': 'Join us for our live in-person JavaScript crash course, where we will dig into one of the fastest-growing languages in the software development industry. It’s free and open to all – you don’t need to have any previous programming knowledge to participate.  By the end of the presentation, you will:  Have a good understanding of what programming means Know what JavaScript is and how it’s used The best part: we will get our hands dirty writing some JavaScript.   Don’t worry…we’ll walk you through every step. Come learn to code live with our very own instructor staff. Maybe this will be your jumpstart into an exciting and in-demand career…for FREE!  Must be 18+ to participate.  Parking is free on Tuesdays in downtown San Antonio.'},\n",
       " {'title': 'In-Person Workshop: Learn to Code – Python on 7/19',\n",
       "  'published': 'Jun 20, 2022',\n",
       "  'category': 'San Antonio',\n",
       "  'content': 'According to LinkedIn, the “#1 Most Promising Job” is data science! One of the major building blocks to data science is Python. Python is a programming language used to manipulate data, conduct analysis, and apply machine learning algorithms. If you’re curious to learn more, join this free virtual workshop! You will:  Learn the basics of Python from our very own Data Science instructors Gain hands-on practice programming in Python, including syntax, data types, control structures, and functions Get an introduction to the field of data science Uplevel your skills live from the comfort of your own home.  Don’t worry — no prior experience is needed to participate. Save your seat quickly – our Python workshops are always in high demand!   What you need: 1. Laptop (does not matter what kind). You need to be able to access WiFi and run an internet browser. 2. To RSVP!  AGE REQUIREMENT: 17+   Parking:  You can park across the street in the parking garage, on the street, or anywhere else downtown. Parking is free on Tuesdays downtown.'},\n",
       " {'title': 'Is Our Cloud Administration Program Right for You?',\n",
       "  'published': 'Jun 8, 2022',\n",
       "  'category': 'Featured',\n",
       "  'content': 'Changing careers can be scary. The first thing you may be asking yourself is, “where do I begin?” If you are looking into a career in tech, but coding or statistics aren’t your thing, our brand new Cloud Administration program might be just for you! What Exactly is Cloud Administration? The future is in the cloud! As the new way of doing business, all kinds of companies need to build or interact with cloud products. These aren’t just high-tech solutions – they’re the core of everyday products like cloud-based gaming from Xbox, collaborative work tools from Google Drive, and even music streaming services from Spotify!\\xa0A Cloud Administrator works with software developers to design, build, maintain, and optimize a cloud architecture to run software applications. What Will You Learn? Just like our Data Science and Web Development programs, the Cloud Administration program is considered a career accelerator. Unlike a traditional 4 year degree, you can complete our program in just 15 weeks! You will receive hands-on training in:  Networking fundamentals Linux Operating System Windows Operating System Cloud and Computer Security Amazon Web Services (AWS Cloud)  You’ll even earn two industry-recognized certifications as an AWS Cloud Practitioner and AWS Solutions Architect Associate, fully included in your tuition. You’ll learn how each technology works together, and how they are applied to real projects by starting simple, then progressively getting more complex as you add more tools to your toolbox. We’ll teach you to build infrastructure that enables software and data science products, manage cloud deployments, and optimize for cloud performance.\\xa0 As for instruction, we are dedicated to giving you the best. Your instructors are speaking from real industry experience, and are invested in every student’s success. They’re essentially your personal mentors providing on-the-ground support, making themselves accessible to you when you need them.\\xa0 Your Success Not only will you be equipped with in-demand cloud skills, but you’ll also get professional development along the way, including help polishing your resume and LinkedIn, as well as access to our employer network. This program, with the support of our career coaches and placement team, can help you become a:\\xa0  Cloud Administrator Cloud Architect Cloud Engineer Cloud Network Engineer Cloud Security Engineer\\xa0  You’re not stuck in one lane when you come to Codeup. With our instructors, coaches, and placement team you can take what you learn and run with it. Cloud technology is improving every single day and this course can ensure you are at the forefront of helping build and maintain that technology.\\xa0 Codeup Payment Options Financing your career transition can be a bit stressful, but we never want it to stop you from changing your career and applying. We have a dedicated Financial Aid and Enrollment team to walk you through every possible option to pay for your tuition here at Codeup. Whether you are using your VA benefits, grants, loans, scholarships, or self-paying, our team will work with you to ensure you receive all forms of financial aid for which you qualify. You can change your career regardless of your financial situation. Want more information on our Cloud Administration program? Check our student reviews, and our blog on 5 Reasons We Think You Should Attend the Cloud Administration program. You can do more than dream of this life-changing career – you can LIVE IT!. Our application process is the first step to beginning your journey in Cloud Administration today!'}]"
      ]
     },
     "execution_count": 15,
     "metadata": {},
     "output_type": "execute_result"
    }
   ],
   "source": [
    "get_blog_articles(url_list)"
   ]
  },
  {
   "cell_type": "markdown",
   "id": "2a9f9b3f",
   "metadata": {},
   "source": [
    "---"
   ]
  },
  {
   "cell_type": "markdown",
   "id": "a3fa34d7",
   "metadata": {},
   "source": [
    "### 2) News Articles\n",
    "\n",
    "We will now be scraping text data from inshorts, a website that provides a brief overview of many different topics.\n",
    "\n",
    "Write a function that scrapes the news articles for the following topics:\n",
    "\n",
    "Business\n",
    "Sports\n",
    "Technology\n",
    "Entertainment The end product of this should be a function named get_news_articles that returns a list of dictionaries, where each dictionary has this shape:"
   ]
  },
  {
   "cell_type": "code",
   "execution_count": 16,
   "id": "711eb143",
   "metadata": {},
   "outputs": [],
   "source": [
    "#Define individual news category urls\n",
    "\n",
    "url1 = 'https://inshorts.com/en/read/business'\n",
    "url2 = 'https://inshorts.com/en/read/sports'\n",
    "url3 = 'https://inshorts.com/en/read/technology'\n",
    "url4 = 'https://inshorts.com/en/read/entertainment'\n",
    "\n",
    "#make a list of all these urls\n",
    "urls = [url1, url2, url3, url4]"
   ]
  },
  {
   "cell_type": "markdown",
   "id": "4bbd236e",
   "metadata": {},
   "source": [
    "### URL 1"
   ]
  },
  {
   "cell_type": "code",
   "execution_count": 17,
   "id": "0b35a3f1",
   "metadata": {},
   "outputs": [
    {
     "data": {
      "text/plain": [
       "<Response [200]>"
      ]
     },
     "execution_count": 17,
     "metadata": {},
     "output_type": "execute_result"
    }
   ],
   "source": [
    "# set headers\n",
    "headers = {'User-Agent': 'Codeup Data Science'}\n",
    "response = get(url1, headers=headers)\n",
    "response"
   ]
  },
  {
   "cell_type": "code",
   "execution_count": 18,
   "id": "9b9e24f0",
   "metadata": {},
   "outputs": [],
   "source": [
    "soup = BeautifulSoup(response.content, 'html.parser')"
   ]
  },
  {
   "cell_type": "code",
   "execution_count": 19,
   "id": "d5d73abf",
   "metadata": {},
   "outputs": [],
   "source": [
    "#Find the title of the first article on the page\n",
    "cards = soup.find('div', class_ = 'card-stack')\n",
    "\n",
    "articles = cards.find_all('div', class_ = 'news-card')\n",
    "article = articles[0]"
   ]
  },
  {
   "cell_type": "code",
   "execution_count": 20,
   "id": "d9ff4dc4",
   "metadata": {},
   "outputs": [
    {
     "data": {
      "text/plain": [
       "\"India's GDP grows at 13.5% in first quarter of FY23, fastest in a year\""
      ]
     },
     "execution_count": 20,
     "metadata": {},
     "output_type": "execute_result"
    }
   ],
   "source": [
    "#Find the title of the first article on the page\n",
    "title = article.find('span', itemprop = 'headline').text\n",
    "title"
   ]
  },
  {
   "cell_type": "code",
   "execution_count": 21,
   "id": "8ff93672",
   "metadata": {},
   "outputs": [
    {
     "data": {
      "text/plain": [
       "'Anmol Sharma'"
      ]
     },
     "execution_count": 21,
     "metadata": {},
     "output_type": "execute_result"
    }
   ],
   "source": [
    "#Find the author of the first article\n",
    "author = article.find('span', class_ = 'author').text\n",
    "author"
   ]
  },
  {
   "cell_type": "code",
   "execution_count": 22,
   "id": "03775967",
   "metadata": {},
   "outputs": [
    {
     "data": {
      "text/plain": [
       "'31 Aug 2022'"
      ]
     },
     "execution_count": 22,
     "metadata": {},
     "output_type": "execute_result"
    }
   ],
   "source": [
    "#Find the publication date\n",
    "published = article.find('span', clas = 'date').text.split(',')[0]\n",
    "published"
   ]
  },
  {
   "cell_type": "code",
   "execution_count": 23,
   "id": "979c64e8",
   "metadata": {},
   "outputs": [
    {
     "data": {
      "text/plain": [
       "\"India's GDP grew at 13.5% in the first quarter of FY23, achieving its fastest annual expansion in a year, government data showed. However, it is lower than the Reserve Bank of India's (RBI) projection of 16.2% GDP growth in the first quarter of FY23. India's GDP growth in the first quarter of FY22 was 20.1%.\""
      ]
     },
     "execution_count": 23,
     "metadata": {},
     "output_type": "execute_result"
    }
   ],
   "source": [
    "content = article.find('div', itemprop = 'articleBody').text\n",
    "content"
   ]
  },
  {
   "cell_type": "code",
   "execution_count": 24,
   "id": "2e2bb49a",
   "metadata": {},
   "outputs": [],
   "source": [
    "## Create function that creates a dictionary out of a single article on an inshorts.com page\n",
    "\n",
    "def parse_news_article(article, category):\n",
    "    output = {}\n",
    "\n",
    "    output['category'] = category\n",
    "    output['title'] = article.find('span', itemprop = 'headline').text.strip()\n",
    "    output['author'] = article.find('span', class_ = 'author').text\n",
    "    output['date'] = article.find('span', clas = 'date').text.split(',')[0]\n",
    "    output['content'] = article.find('div', itemprop = 'articleBody').text\n",
    "\n",
    "    return output"
   ]
  },
  {
   "cell_type": "code",
   "execution_count": 25,
   "id": "89b1e813",
   "metadata": {},
   "outputs": [],
   "source": [
    "def parse_news_page(category):\n",
    "    url = 'https://inshorts.com/en/read/' + category\n",
    "    response = get(url)\n",
    "    soup = BeautifulSoup(response.text)\n",
    "\n",
    "    cards = soup.select('.news-card')\n",
    "    articles = []\n",
    "\n",
    "    for card in cards:\n",
    "        articles.append(parse_news_article(card, category))\n",
    "\n",
    "    return articles"
   ]
  },
  {
   "cell_type": "code",
   "execution_count": 26,
   "id": "ab646daf",
   "metadata": {
    "scrolled": false
   },
   "outputs": [
    {
     "data": {
      "text/plain": [
       "[{'category': 'business',\n",
       "  'title': \"India's GDP grows at 13.5% in first quarter of FY23, fastest in a year\",\n",
       "  'author': 'Anmol Sharma',\n",
       "  'date': '31 Aug 2022',\n",
       "  'content': \"India's GDP grew at 13.5% in the first quarter of FY23, achieving its fastest annual expansion in a year, government data showed. However, it is lower than the Reserve Bank of India's (RBI) projection of 16.2% GDP growth in the first quarter of FY23. India's GDP growth in the first quarter of FY22 was 20.1%.\"},\n",
       " {'category': 'business',\n",
       "  'title': '2 top executives at Snap quit hours after report about 20% layoffs emerges',\n",
       "  'author': 'Ridham Gambhir',\n",
       "  'date': '31 Aug 2022',\n",
       "  'content': 'Two senior advertising executives at Snap quit hours after a report emerged stating that the company was planning to cut about 20% of its workforce. Earlier, a report by The Verge, while citing sources, said that Snap is planning to lay off 20% of its more than 6,400 employees after it reported weak Q2 results. '},\n",
       " {'category': 'business',\n",
       "  'title': 'Snap to lay off 20% of staff, cancel several projects to cut costs',\n",
       "  'author': 'Ananya Goyal',\n",
       "  'date': '31 Aug 2022',\n",
       "  'content': 'Snap said on Wednesday it will lay off 20% of its staff and shut down original shows, in-app games and several other projects as part of a corporate restructuring. As per CEO  Evan Spiegel, Snap\\'s current revenue growth rate is \"well below\" what the company was expecting. The cut will help Snap save an estimated $500 million in costs annually. '},\n",
       " {'category': 'business',\n",
       "  'title': \"Musk seeks to delay Twitter trial to Nov amid whistleblower's claims\",\n",
       "  'author': 'Ridham Gambhir',\n",
       "  'date': '31 Aug 2022',\n",
       "  'content': \"Tesla CEO Elon Musk is seeking to delay the trial with Twitter until November, as per court filings. The five-day trial is currently scheduled to start on October 17. The court filings came after Musk's legal team sent a fresh letter to Twitter to include whistleblower Peiter Zatko's claims as another reason to end the $44 billion deal.\"},\n",
       " {'category': 'business',\n",
       "  'title': 'Viral video shows Amazon parcels thrown out of train at station, Railways clarifies',\n",
       "  'author': 'Apaar Sharma',\n",
       "  'date': '31 Aug 2022',\n",
       "  'content': 'A video from Guwahati railway station has gone viral which shows Amazon parcels being thrown on the platform as they are unloaded from a train. After some social media users alleged that Railways\\' employees were carelessly unloading the parcels, Northeast Frontier Railway said, \"This is an old video from March, 2022...The persons handling parcels are representatives of concerned party.\"'},\n",
       " {'category': 'business',\n",
       "  'title': 'Dell among firms conducting stay interviews to contain high attrition rates: Report',\n",
       "  'author': 'Ridham Gambhir',\n",
       "  'date': '31 Aug 2022',\n",
       "  'content': 'To contain the high attrition rates, some companies are now reportedly using stay interviews. In stay interviews, companies speak to the employees about their importance to the organisation while addressing the issues they might be facing prompting them to quit. Dell Technologies and Ericsson are among the companies which have been conducting such interviews with employees. '},\n",
       " {'category': 'business',\n",
       "  'title': \"World's 3rd richest person Adani's wealth surged over 13 times in 2.5 years\",\n",
       "  'author': 'Ridham Gambhir',\n",
       "  'date': '31 Aug 2022',\n",
       "  'content': \"Adani Group Chairman Gautam Adani on Tuesday became the world's third richest person with a net worth of $137 billion. While his wealth stood at $10 billion on January 1, 2020, it surged by over $60 billion in 2022 alone and jumped more than thirteen times in over two and half years. Currently, his net worth stands at $143 billion. \"},\n",
       " {'category': 'business',\n",
       "  'title': \"Russia's Gazprom halts gas supply to Europe via major pipeline\",\n",
       "  'author': 'Srishty Choudhury',\n",
       "  'date': '31 Aug 2022',\n",
       "  'content': 'Russia stopped gas supplies via a major pipeline to Europe on Wednesday with state energy company Gazprom saying that no gas would flow into Germany between Wednesday and Saturday. This is because of the outage for maintenance on Nord Stream 1. While European governments have accused Russia of using energy supplies as a \"weapon of war\", Moscow has denied this.\\n'},\n",
       " {'category': 'business',\n",
       "  'title': 'Infosys divests entire stake in US-based Trifacta for $12 million',\n",
       "  'author': 'Srishty Choudhury',\n",
       "  'date': '31 Aug 2022',\n",
       "  'content': \"Infosys said that it has divested its stake in Trifacta Inc, a data preparation software company, for $12 million. Infosys had invested $4 million in the San Francisco-based company in 2016. It had a minority holding not exceeding 20% of Trifacta's outstanding share capital. Trifacta was founded in 2012 and its investors include Accel, Greylock Partners, Ignition and Cathay Innovation.\\n\"},\n",
       " {'category': 'business',\n",
       "  'title': \"Most of crypto still junk: JP Morgan's digital assets division head\",\n",
       "  'author': 'Ashley Paul',\n",
       "  'date': '30 Aug 2022',\n",
       "  'content': 'JP Morgan\\'s digital assets division head Umar Farooq said majority of crypto assets are \"junk\" and actual crypto use cases haven\\'t fully materialised. Regulation hasn\\'t kept up with the expanding industry, thereby discouraging many conventional financial institutions from participating, he said. Industry hasn\\'t developed sufficiently to be used to support high-value serious transactions, he added.'},\n",
       " {'category': 'business',\n",
       "  'title': 'Japan calls for $24 bn investment to boost battery competitiveness',\n",
       "  'author': 'Purnima Rajput',\n",
       "  'date': '31 Aug 2022',\n",
       "  'content': \"Japan's Ministry of Economy, Trade and Industry said that the country needs an investment worth over $24 billion from the public and private sectors to develop a competitive manufacturing base for batteries used in electric vehicles (EVs). A specialist panel has set a target of securing 30,000 trained workers for battery manufacturing and supply chains by 2030.\\n\"},\n",
       " {'category': 'business',\n",
       "  'title': 'SoftBank Corporate Officer Rajeev Misra steps down amid record loss',\n",
       "  'author': 'Srishty Choudhury',\n",
       "  'date': '31 Aug 2022',\n",
       "  'content': \"SoftBank Group's Corporate Officer and Executive Vice President Rajeev Misra is stepping down from his roles, the Japanese conglomerate said on Wednesday. This development follows a record loss at the Japanese investment group after a slide in technology stocks. Misra will retain his position as head of SoftBank Investment Advisers, which oversees the first Vision Fund's existing investments.\\n\"},\n",
       " {'category': 'business',\n",
       "  'title': \"Indonesia's GoTo seeks to raise $1 billion via convertible bonds: Report\",\n",
       "  'author': 'Ashley Paul',\n",
       "  'date': '30 Aug 2022',\n",
       "  'content': \"Indonesia's largest technology firm GoTo is seeking to raise about $1 billion through a convertible bond issue, Reuters reported. The company, formed last year after the merger of ride hailing firm Gojek and e-commerce leader Tokopedia, is reportedly working with three financial advisors for the offering. The offer is expected to be launched in the fourth quarter.\"},\n",
       " {'category': 'business',\n",
       "  'title': 'Netflix hires 2 top advertising executives from Snapchat-parent Snap Inc',\n",
       "  'author': 'Ashley Paul',\n",
       "  'date': '31 Aug 2022',\n",
       "  'content': \"Netflix on Tuesday announced that it has hired two top executives from Snap Inc. The firm's Chief Business Officer Jeremi Gorman has been hired as Netflix's head of worldwide advertising while Snap Inc's VP of advertising sales Peter Naylor has been hired for the same role. The hiring signals Netflix's commitment to building an ad-supported version of its streaming service.\"},\n",
       " {'category': 'business',\n",
       "  'title': 'EV firm Lucid files mixed shelf offering of up to $8 bn',\n",
       "  'author': 'Anisha Joneja',\n",
       "  'date': '30 Aug 2022',\n",
       "  'content': 'Electric vehicle company Lucid Group Inc has filed for a new mixed shelf offering of up to $8 billion. Under this, the EV maker may sell different securities in either one or more offerings with the size, price and terms to be decided at the time of sale. Lucid has a market capitalisation of about $27 billion. '},\n",
       " {'category': 'business',\n",
       "  'title': \"Tata Motors completes buying of Marcopolo's stake for ₹99.96 crore\",\n",
       "  'author': 'Srishty Choudhury',\n",
       "  'date': '31 Aug 2022',\n",
       "  'content': \"Tata Motors has completed the acquisition of its partner Marcopolo's stake in their joint venture Tata Marcopolo Motors Limited (TMML) for ₹99.96 crore. The 51:49 joint venture between the two was formed in 2006. Tata Motors and Marcopolo had signed a deal under which the former agreed to purchase 49% shareholding of Marcopolo in the joint venture in December 2020.\\n\"},\n",
       " {'category': 'business',\n",
       "  'title': 'Axis Bank looking to acquire 10% stake in Go Digit: Report',\n",
       "  'author': 'Anisha Joneja',\n",
       "  'date': '30 Aug 2022',\n",
       "  'content': 'Axis Bank is looking to acquire a 10% stake for around $9 million in Go Digit Life Insurance, as per a report. Last week, HDFC Bank in a regulatory filing declared that it was planning to buy a 9.94% stake in Go Digit Life for $9 million. Go Digit Insurance recently filed papers to raise $440 million via an IPO. '},\n",
       " {'category': 'business',\n",
       "  'title': 'States, UTs to get chana at ₹8/kg discount for welfare schemes',\n",
       "  'author': 'Srishty Choudhury',\n",
       "  'date': '31 Aug 2022',\n",
       "  'content': 'The Union Cabinet has approved the disposal of 15 lakh tonne of chana to states and Union Territories at a discount of ₹8/kg for utilisation in various welfare schemes. These will be offered on a \"first come, first served\" basis and can be utilised in Mid Day Meal Scheme, Public Distribution System and Integrated Child Development Services, among others.'},\n",
       " {'category': 'business',\n",
       "  'title': 'IMF to make formal announcement on SL bailout package on Thurs: Report',\n",
       "  'author': 'Ashley Paul',\n",
       "  'date': '31 Aug 2022',\n",
       "  'content': \"International Monetary Fund (IMF) is likely to conclude talks with the Sri Lankan government and make a formal announcement on Thursday on the bailout package and staff-level agreement for the cash-strapped country, according to reports. The ongoing talks are regarding a $5 billion bailout package for Sri Lanka. This is IMF delegation's second visit to Sri Lanka in three months.\"},\n",
       " {'category': 'business',\n",
       "  'title': 'Pak at challenging economic juncture: IMF while approving bailout',\n",
       "  'author': 'Srishty Choudhury',\n",
       "  'date': '31 Aug 2022',\n",
       "  'content': 'Pakistan is at a \"challenging economic juncture\", the International Monetary Fund (IMF) said while approving a $1.17 billion bailout plan amid widespread destruction due to floods. IMF\\'s Executive Board completed the reviews of a loan facility for Pakistan on Monday. It will put the cash-starved country\\'s economy back on track averting an imminent default amid persisting political uncertainty.\\n'},\n",
       " {'category': 'business',\n",
       "  'title': \"India's B2B general trade to reach $1.2 trillion by 2030: Redseer\",\n",
       "  'author': 'Anisha Joneja',\n",
       "  'date': '31 Aug 2022',\n",
       "  'content': \"According to a report by Redseer Strategy Consultants, the general business-to-business (B2B) trade in India will reach $1.2 trillion by 2030, with the driving factor being B2B e-commerce. The unorganised general trade channel that drives India's retail market will double from $0.7 trillion to $1.4 trillion. The B2B e-commerce market will reach $90-100 billion in gross merchandise value. \"},\n",
       " {'category': 'business',\n",
       "  'title': 'Tata Steel to invest in hydrogen-based steel production in Netherlands',\n",
       "  'author': 'Purnima Rajput',\n",
       "  'date': '31 Aug 2022',\n",
       "  'content': 'Tata Steel has said that it will invest more than €65 million for hydrogen-based steel manufacturing in the Netherlands. The company has signed pacts with three firms - McDermott, Danieli and Hatch for further technical preparations. McDermott will manage construction input, Danieli will oversee engineering design and Hatch will help improve the final steel quality.'},\n",
       " {'category': 'business',\n",
       "  'title': 'FPIs turn net buyers of Indian shares in a month 1st time since Sept 2021',\n",
       "  'author': 'Srishty Choudhury',\n",
       "  'date': '31 Aug 2022',\n",
       "  'content': \"In August 2022, the first month of net inflows for Dalal Street since September 2021, foreign portfolio investors (FPIs) emerged as net buyers of Indian equities with net purchases at ₹22,025.8 crore for the month, provisional exchange data showed. Net sales by domestic institutional investors (DIIs) stood at ₹7,068.9 crore. This was first month of DIIs' outflows in 16 months.\"},\n",
       " {'category': 'business',\n",
       "  'title': 'NSDL likely to shortlist 7 investment banks for 2023 IPO: Reports',\n",
       "  'author': 'Srishty Choudhury',\n",
       "  'date': '31 Aug 2022',\n",
       "  'content': \"IDBI Bank and the NSE-backed National Securities Depository Limited (NSDL) is likely to shortlist seven investment banks as advisors in its preparation to launch an initial public offer next year, according to reports. If the listing is successful, NSDL will become the second depository services firm to be listed on Indian bourses after Central Depository Services Limited's debut in 2017.\\n\"},\n",
       " {'category': 'business',\n",
       "  'title': 'Air India retains Captain RS Sandhu as Chief of Operations',\n",
       "  'author': 'Srishty Choudhury',\n",
       "  'date': '31 Aug 2022',\n",
       "  'content': \"Tata-owned Air India announced on Tuesday that Captain RS Sandhu will continue to lead as its Chief of Operations till further notice. In July 2020, the Appointments Committee of the Cabinet cleared his appointment for the role. This makes Sandhu one of the few top management people from Air India's government-owned days to be retained after the Tatas took over.\"}]"
      ]
     },
     "execution_count": 26,
     "metadata": {},
     "output_type": "execute_result"
    }
   ],
   "source": [
    "parse_news_page('business')"
   ]
  },
  {
   "cell_type": "code",
   "execution_count": 27,
   "id": "39cb8ba4",
   "metadata": {},
   "outputs": [],
   "source": [
    "# cache the data, and turn it into a dataframe (function)\n",
    "def get_news_articles(use_cache=True):\n",
    "    if os.path.exists('news_articles.json') and use_cache:\n",
    "        return pd.read_json('news_articles.json')\n",
    "\n",
    "    categories = ['business', 'sports', 'technology', 'entertainment']\n",
    "\n",
    "    articles = []\n",
    "\n",
    "    for category in categories:\n",
    "        print(f'Getting {category} articles')\n",
    "        articles.extend(parse_news_page(category))\n",
    "\n",
    "    df = pd.DataFrame(articles)\n",
    "    df.to_json('news_articles.json', orient='records')\n",
    "    return df"
   ]
  }
 ],
 "metadata": {
  "kernelspec": {
   "display_name": "Python 3.9.12 ('base')",
   "language": "python",
   "name": "python3"
  },
  "language_info": {
   "codemirror_mode": {
    "name": "ipython",
    "version": 3
   },
   "file_extension": ".py",
   "mimetype": "text/x-python",
   "name": "python",
   "nbconvert_exporter": "python",
   "pygments_lexer": "ipython3",
   "version": "3.9.12"
  },
  "vscode": {
   "interpreter": {
    "hash": "3067ead486e059ec00ffe7555bdb889e6e264a24dc711bf108106cc7baee8d5d"
   }
  }
 },
 "nbformat": 4,
 "nbformat_minor": 5
}
